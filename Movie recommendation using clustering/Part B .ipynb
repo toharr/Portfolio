{
 "cells": [
  {
   "cell_type": "code",
   "execution_count": 1,
   "id": "21a7abd7-1dd2-4df6-8e94-60833fad1a8d",
   "metadata": {},
   "outputs": [],
   "source": [
    "import nltk\n",
    "from nltk.tokenize import word_tokenize\n",
    "from nltk.corpus import stopwords\n",
    "from nltk.probability import FreqDist\n",
    "from nltk.tokenize import sent_tokenize\n",
    "from nltk.tokenize import RegexpTokenizer\n",
    "from nltk.stem import WordNetLemmatizer\n",
    "from nltk.tokenize import word_tokenize\n",
    "from nltk.tag import pos_tag\n",
    "import spacy\n",
    "import pandas as pd   \n",
    "import requests       \n",
    "from bs4 import BeautifulSoup \n",
    "import numpy as np\n",
    "from sklearn.cluster import KMeans\n",
    "import matplotlib.pyplot as plt\n",
    "import ast\n",
    "from sklearn.feature_extraction.text import TfidfVectorizer\n",
    "from sklearn.mixture import GaussianMixture\n",
    "from sklearn.metrics import silhouette_score\n",
    "from sklearn.preprocessing import StandardScaler\n",
    "from scipy.spatial.distance import cdist\n",
    "from sklearn.metrics.pairwise import cosine_similarity\n",
    "from sklearn import metrics"
   ]
  },
  {
   "cell_type": "markdown",
   "id": "2aa3b9a2",
   "metadata": {},
   "source": [
    "### The First part will be to collect all the imdb ids of the top 1000 movies."
   ]
  },
  {
   "cell_type": "code",
   "execution_count": 2,
   "id": "b501d894-d07a-48c9-8448-3791fa616e33",
   "metadata": {},
   "outputs": [
    {
     "data": {
      "text/html": [
       "<div>\n",
       "<style scoped>\n",
       "    .dataframe tbody tr th:only-of-type {\n",
       "        vertical-align: middle;\n",
       "    }\n",
       "\n",
       "    .dataframe tbody tr th {\n",
       "        vertical-align: top;\n",
       "    }\n",
       "\n",
       "    .dataframe thead th {\n",
       "        text-align: right;\n",
       "    }\n",
       "</style>\n",
       "<table border=\"1\" class=\"dataframe\">\n",
       "  <thead>\n",
       "    <tr style=\"text-align: right;\">\n",
       "      <th></th>\n",
       "      <th>Unnamed: 0</th>\n",
       "      <th>Name of movie</th>\n",
       "      <th>Genre</th>\n",
       "      <th>Year of relase</th>\n",
       "      <th>Runtime (Minutes)</th>\n",
       "      <th>Movie Rating</th>\n",
       "      <th>Metascore</th>\n",
       "      <th>Votes</th>\n",
       "      <th>Description</th>\n",
       "      <th>details</th>\n",
       "    </tr>\n",
       "  </thead>\n",
       "  <tbody>\n",
       "    <tr>\n",
       "      <th>0</th>\n",
       "      <td>0</td>\n",
       "      <td>The Shawshank Redemption</td>\n",
       "      <td>Drama</td>\n",
       "      <td>1994.0</td>\n",
       "      <td>142</td>\n",
       "      <td>9.3</td>\n",
       "      <td>82.0</td>\n",
       "      <td>2,873,242</td>\n",
       "      <td>Over the course of several years, two convicts...</td>\n",
       "      <td>[0, ['English'], 73, 'Frank Darabont', \"Chroni...</td>\n",
       "    </tr>\n",
       "    <tr>\n",
       "      <th>1</th>\n",
       "      <td>1</td>\n",
       "      <td>The Godfather</td>\n",
       "      <td>Crime, Drama</td>\n",
       "      <td>1972.0</td>\n",
       "      <td>175</td>\n",
       "      <td>9.2</td>\n",
       "      <td>100.0</td>\n",
       "      <td>2,001,286</td>\n",
       "      <td>The aging patriarch of an organized crime dyna...</td>\n",
       "      <td>NaN</td>\n",
       "    </tr>\n",
       "    <tr>\n",
       "      <th>2</th>\n",
       "      <td>2</td>\n",
       "      <td>The Dark Knight</td>\n",
       "      <td>Action, Crime, Drama</td>\n",
       "      <td>2008.0</td>\n",
       "      <td>152</td>\n",
       "      <td>9.0</td>\n",
       "      <td>84.0</td>\n",
       "      <td>2,855,626</td>\n",
       "      <td>When the menace known as the Joker wreaks havo...</td>\n",
       "      <td>[1, ['English', 'Mandarin'], 243, 'Christopher...</td>\n",
       "    </tr>\n",
       "    <tr>\n",
       "      <th>3</th>\n",
       "      <td>3</td>\n",
       "      <td>Schindler's List</td>\n",
       "      <td>Biography, Drama, History</td>\n",
       "      <td>1993.0</td>\n",
       "      <td>195</td>\n",
       "      <td>9.0</td>\n",
       "      <td>95.0</td>\n",
       "      <td>1,443,212</td>\n",
       "      <td>In German-occupied Poland during World War II,...</td>\n",
       "      <td>[0, ['English', 'Hebrew', 'German', 'Polish', ...</td>\n",
       "    </tr>\n",
       "    <tr>\n",
       "      <th>4</th>\n",
       "      <td>4</td>\n",
       "      <td>The Lord of the Rings: The Return of the King</td>\n",
       "      <td>Action, Adventure, Drama</td>\n",
       "      <td>2003.0</td>\n",
       "      <td>201</td>\n",
       "      <td>9.0</td>\n",
       "      <td>94.0</td>\n",
       "      <td>1,968,792</td>\n",
       "      <td>Gandalf and Aragorn lead the World of Men agai...</td>\n",
       "      <td>[1, ['English', 'Quenya', 'Old English', 'Sind...</td>\n",
       "    </tr>\n",
       "  </tbody>\n",
       "</table>\n",
       "</div>"
      ],
      "text/plain": [
       "   Unnamed: 0                                  Name of movie  \\\n",
       "0           0                       The Shawshank Redemption   \n",
       "1           1                                  The Godfather   \n",
       "2           2                                The Dark Knight   \n",
       "3           3                               Schindler's List   \n",
       "4           4  The Lord of the Rings: The Return of the King   \n",
       "\n",
       "                       Genre  Year of relase  Runtime (Minutes)  Movie Rating  \\\n",
       "0                      Drama          1994.0                142           9.3   \n",
       "1               Crime, Drama          1972.0                175           9.2   \n",
       "2       Action, Crime, Drama          2008.0                152           9.0   \n",
       "3  Biography, Drama, History          1993.0                195           9.0   \n",
       "4   Action, Adventure, Drama          2003.0                201           9.0   \n",
       "\n",
       "   Metascore      Votes                                        Description  \\\n",
       "0       82.0  2,873,242  Over the course of several years, two convicts...   \n",
       "1      100.0  2,001,286  The aging patriarch of an organized crime dyna...   \n",
       "2       84.0  2,855,626  When the menace known as the Joker wreaks havo...   \n",
       "3       95.0  1,443,212  In German-occupied Poland during World War II,...   \n",
       "4       94.0  1,968,792  Gandalf and Aragorn lead the World of Men agai...   \n",
       "\n",
       "                                             details  \n",
       "0  [0, ['English'], 73, 'Frank Darabont', \"Chroni...  \n",
       "1                                                NaN  \n",
       "2  [1, ['English', 'Mandarin'], 243, 'Christopher...  \n",
       "3  [0, ['English', 'Hebrew', 'German', 'Polish', ...  \n",
       "4  [1, ['English', 'Quenya', 'Old English', 'Sind...  "
      ]
     },
     "execution_count": 2,
     "metadata": {},
     "output_type": "execute_result"
    }
   ],
   "source": [
    "data = pd.read_csv('movie_DF_output.csv')\n",
    "data = pd.DataFrame(data)\n",
    "\n",
    "data.head()"
   ]
  },
  {
   "cell_type": "markdown",
   "id": "294a0048",
   "metadata": {},
   "source": [
    "# Cleaning the dataset\n"
   ]
  },
  {
   "cell_type": "markdown",
   "id": "fe236850",
   "metadata": {},
   "source": [
    "### We created columns based on information we gathered and stored in the Details column."
   ]
  },
  {
   "cell_type": "code",
   "execution_count": 3,
   "id": "4827e12e",
   "metadata": {},
   "outputs": [],
   "source": [
    "import ast\n",
    "def convert_to_list(string):\n",
    "    try:\n",
    "        return ast.literal_eval(string)\n",
    "    except (ValueError, SyntaxError):\n",
    "        return []"
   ]
  },
  {
   "cell_type": "code",
   "execution_count": 4,
   "id": "c21944dc",
   "metadata": {},
   "outputs": [],
   "source": [
    "data[\"details\"] = data[\"details\"].apply(convert_to_list)\n",
    "data[\"series\"] = data[\"details\"].str.get(0)\n",
    "data[\"language\"]= data[\"details\"].str.get(1)\n",
    "data[\"cast_size\"]= data[\"details\"].str.get(2)\n",
    "data['director']= data[\"details\"].str.get(3)\n",
    "data['storyline']= data[\"details\"].str.get(4)"
   ]
  },
  {
   "cell_type": "markdown",
   "id": "0a94f038",
   "metadata": {},
   "source": [
    "### Tokenization: Breaking Down Text into Tokens"
   ]
  },
  {
   "cell_type": "code",
   "execution_count": 5,
   "id": "b54cceea",
   "metadata": {},
   "outputs": [],
   "source": [
    "def word(text):\n",
    "    sentences = sent_tokenize(text)\n",
    "    # Splitting the sentences into words and arranging them by frequency\n",
    "    tokenizer = RegexpTokenizer(r'\\w+')\n",
    "    words = tokenizer.tokenize(text)\n",
    "    filtered_words = [word for word in words if (word.lower() not in set(stopwords.words('english')))]\n",
    "    lemmatizer = WordNetLemmatizer()  \n",
    "    lemmatized_words = [lemmatizer.lemmatize(word.lower()) for word in filtered_words]\n",
    "    return ' '.join(lemmatized_words)"
   ]
  },
  {
   "cell_type": "code",
   "execution_count": 6,
   "id": "b8dfd868",
   "metadata": {},
   "outputs": [],
   "source": [
    "#Conversion and Processing of Storyline Data\n",
    "data[\"storyline\"] = data[\"storyline\"].astype(str)\n",
    "data[\"storyline\"] =data[\"storyline\"].apply(lambda x: word(x))\n",
    "storyline_list= data[\"storyline\"].tolist()"
   ]
  },
  {
   "cell_type": "code",
   "execution_count": 7,
   "id": "06147a30",
   "metadata": {},
   "outputs": [],
   "source": [
    "# Initialize the TfidfVectorizer\n",
    "vectorizer = TfidfVectorizer()\n",
    "\n",
    "# Fit and transform the corpus to get the TF-IDF matrix\n",
    "tfidf_matrix = vectorizer.fit_transform(storyline_list)\n",
    "\n",
    "# Get feature names (words)\n",
    "if hasattr(vectorizer, 'get_feature_names_out'):\n",
    "    feature_names = vectorizer.get_feature_names_out()\n",
    "else:\n",
    "    feature_names = vectorizer.get_feature_names()\n",
    "\n",
    "# Create a DataFrame to store the TF-IDF scores\n",
    "tfidf_df = pd.DataFrame(tfidf_matrix.toarray(), columns=feature_names)\n",
    "\n",
    "# Sum the TF-IDF scores across all documents (rows)\n",
    "total_tfidf_scores = tfidf_df.sum()\n",
    "\n",
    "# Get the top 20 words with the highest TF-IDF scores\n",
    "top_20_words = total_tfidf_scores.nlargest(22)\n",
    "\n",
    "top_20_words = top_20_words.index.tolist()[2:]\n",
    "\n",
    "# Creating a Word Count Column Based on Top 20 Words Presence in Storyline\n",
    "data['word_count'] = data['storyline'].str.lower().str.split().apply(lambda x:  1 if any(word in x for word in top_20_words) else 0)"
   ]
  },
  {
   "cell_type": "markdown",
   "id": "849365db",
   "metadata": {},
   "source": [
    "### Treating remaining columns and missing values"
   ]
  },
  {
   "cell_type": "code",
   "execution_count": 8,
   "id": "c9a64712",
   "metadata": {},
   "outputs": [],
   "source": [
    "#Removing Commas and Converting Votes to Float \n",
    "data[\"Votes\"]=data[\"Votes\"].str.replace(',','')\n",
    "data['Votes'] = data['Votes'].astype(float)\n",
    "\n",
    "# Treating missing values in the METASCORE column \n",
    "data['Metascore'] = data.groupby(['Votes', 'Movie Rating'])['Metascore'].transform('mean').fillna(method='ffill')\n",
    "\n",
    "#Data Processing: Dropping 'Unnamed: 0' Column and Removing NaN Values\n",
    "data= data.drop(columns=['Unnamed: 0'])\n",
    "data= data.dropna()\n",
    "\n",
    "#Resetting Index in DataFrame 'df'\n",
    "df = data.reset_index(drop=True)\n"
   ]
  },
  {
   "cell_type": "code",
   "execution_count": 9,
   "id": "59315aa0",
   "metadata": {},
   "outputs": [
    {
     "name": "stdout",
     "output_type": "stream",
     "text": [
      "<class 'pandas.core.frame.DataFrame'>\n",
      "RangeIndex: 935 entries, 0 to 934\n",
      "Data columns (total 15 columns):\n",
      " #   Column             Non-Null Count  Dtype  \n",
      "---  ------             --------------  -----  \n",
      " 0   Name of movie      935 non-null    object \n",
      " 1   Genre              935 non-null    object \n",
      " 2   Year of relase     935 non-null    float64\n",
      " 3   Runtime (Minutes)  935 non-null    int64  \n",
      " 4   Movie Rating       935 non-null    float64\n",
      " 5   Metascore          935 non-null    float64\n",
      " 6   Votes              935 non-null    float64\n",
      " 7   Description        935 non-null    object \n",
      " 8   details            935 non-null    object \n",
      " 9   series             935 non-null    float64\n",
      " 10  language           935 non-null    object \n",
      " 11  cast_size          935 non-null    float64\n",
      " 12  director           935 non-null    object \n",
      " 13  storyline          935 non-null    object \n",
      " 14  word_count         935 non-null    int64  \n",
      "dtypes: float64(6), int64(2), object(7)\n",
      "memory usage: 109.7+ KB\n"
     ]
    }
   ],
   "source": [
    "#Checking the status of existing columns\n",
    "df.info()"
   ]
  },
  {
   "cell_type": "markdown",
   "id": "18d5f8d5",
   "metadata": {},
   "source": [
    "### Converting 'Year of Release' to Binary Encoding\n",
    "#### Year 1995 was chosen as a suitable cutoff. Movies released before 1995 became 0 and after 1990 became 1"
   ]
  },
  {
   "cell_type": "code",
   "execution_count": 10,
   "id": "333e02ac",
   "metadata": {},
   "outputs": [
    {
     "name": "stderr",
     "output_type": "stream",
     "text": [
      "C:\\Users\\tohar\\AppData\\Local\\Temp/ipykernel_33260/312676980.py:4: SettingWithCopyWarning: \n",
      "A value is trying to be set on a copy of a slice from a DataFrame\n",
      "\n",
      "See the caveats in the documentation: https://pandas.pydata.org/pandas-docs/stable/user_guide/indexing.html#returning-a-view-versus-a-copy\n",
      "  df['Year of relase'][i]=0\n",
      "C:\\Users\\tohar\\AppData\\Local\\Temp/ipykernel_33260/312676980.py:6: SettingWithCopyWarning: \n",
      "A value is trying to be set on a copy of a slice from a DataFrame\n",
      "\n",
      "See the caveats in the documentation: https://pandas.pydata.org/pandas-docs/stable/user_guide/indexing.html#returning-a-view-versus-a-copy\n",
      "  df['Year of relase'][i]=1\n"
     ]
    }
   ],
   "source": [
    "df['Year of relase'] = pd.to_numeric(df['Year of relase'])\n",
    "for i in range(len(df)):\n",
    "    if df['Year of relase'][i]<1995:\n",
    "        df['Year of relase'][i]=0\n",
    "    else:\n",
    "        df['Year of relase'][i]=1\n",
    "dummy_year=pd.get_dummies(df['Year of relase'])\n",
    "\n"
   ]
  },
  {
   "cell_type": "markdown",
   "id": "712add22",
   "metadata": {},
   "source": [
    "###  Runtime (Minutes)"
   ]
  },
  {
   "cell_type": "markdown",
   "id": "1ce0a971",
   "metadata": {},
   "source": [
    "#### Visualization of Film Runtimes Distribution with Mean and Standard Deviation"
   ]
  },
  {
   "cell_type": "code",
   "execution_count": 11,
   "id": "0f6672ef",
   "metadata": {},
   "outputs": [
    {
     "data": {
      "image/png": "[encoded data removed]",
      "text/plain": [
       "<Figure size 720x360 with 1 Axes>"
      ]
     },
     "metadata": {
      "needs_background": "light"
     },
     "output_type": "display_data"
    }
   ],
   "source": [
    "fig,ax=plt.subplots(1,1,figsize=(10,5))\n",
    "ax.hist(df['Runtime (Minutes)'],edgecolor='white',align='right')\n",
    "ax.axvline(x=np.mean(df['Runtime (Minutes)']),c='r')\n",
    "ax.axvline(x=np.mean(df['Runtime (Minutes)'])-np.std(df['Runtime (Minutes)']),c='b',ls='--')\n",
    "ax.axvline(x=np.mean(df['Runtime (Minutes)'])+np.std(df['Runtime (Minutes)']),c='b',ls='--')\n",
    "plt.show()"
   ]
  },
  {
   "cell_type": "markdown",
   "id": "d0732e81",
   "metadata": {},
   "source": [
    "#### Conversion to binary based on the average"
   ]
  },
  {
   "cell_type": "code",
   "execution_count": 12,
   "id": "332fb4f5",
   "metadata": {},
   "outputs": [
    {
     "name": "stderr",
     "output_type": "stream",
     "text": [
      "C:\\Users\\tohar\\AppData\\Local\\Temp/ipykernel_33260/3564770729.py:7: SettingWithCopyWarning: \n",
      "A value is trying to be set on a copy of a slice from a DataFrame\n",
      "\n",
      "See the caveats in the documentation: https://pandas.pydata.org/pandas-docs/stable/user_guide/indexing.html#returning-a-view-versus-a-copy\n",
      "  df['Runtime (Minutes)'][i]=1\n",
      "C:\\Users\\tohar\\AppData\\Local\\Temp/ipykernel_33260/3564770729.py:5: SettingWithCopyWarning: \n",
      "A value is trying to be set on a copy of a slice from a DataFrame\n",
      "\n",
      "See the caveats in the documentation: https://pandas.pydata.org/pandas-docs/stable/user_guide/indexing.html#returning-a-view-versus-a-copy\n",
      "  df['Runtime (Minutes)'][i]=0\n"
     ]
    }
   ],
   "source": [
    "df['Runtime (Minutes)']=pd.to_numeric(df['Runtime (Minutes)'],errors='coerce')\n",
    "x = np.mean(df['Runtime (Minutes)'])\n",
    "for i in range(len(df)):\n",
    "    if df['Runtime (Minutes)'][i]<= x:\n",
    "        df['Runtime (Minutes)'][i]=0\n",
    "    else: \n",
    "        df['Runtime (Minutes)'][i]=1"
   ]
  },
  {
   "cell_type": "markdown",
   "id": "5f8859ab",
   "metadata": {},
   "source": [
    "### Functions for Data Cleaning, Top-N Analysis, and Plotting"
   ]
  },
  {
   "cell_type": "code",
   "execution_count": 13,
   "id": "2f6a2ebe",
   "metadata": {},
   "outputs": [],
   "source": [
    "def clean(column_name):\n",
    "\n",
    "    name=set()\n",
    "    for name_string in df[column_name]:\n",
    "        name.update(name_string.split(', '))\n",
    "    name=sorted(name)\n",
    "    return name\n",
    "\n",
    "def top(column_name):\n",
    "\n",
    "    name=clean(column_name)\n",
    "    dummy_name=pd.DataFrame()\n",
    "    for n in name:\n",
    "        dummy_name[n]=[int(n in nm.split(', ')) for nm in df[column_name]] \n",
    "    \n",
    "    namelist=[n for n in name]\n",
    "    nlt=dummy_name[namelist].sum()\n",
    "    nlt=nlt.sort_values(axis=0,ascending=False)\n",
    "    return nlt.index\n",
    "\n",
    "def plot_column(column_name,n_elem_display=0):\n",
    "   \n",
    "    name=clean(column_name)\n",
    "    dummy_name=pd.DataFrame()\n",
    "    for n in name:\n",
    "        dummy_name[n]=[int(n in nm.split(', ')) for nm in df[column_name]] \n",
    "    \n",
    "    namelist=[n for n in name]\n",
    "    nlt=dummy_name[namelist].sum()\n",
    "    nlt=nlt.sort_values(axis=0,ascending=False)\n",
    "    if n_elem_display !=0:\n",
    "        return nlt[:n_elem_display].plot(kind = \"bar\",figsize=(10,10))\n",
    "    else:\n",
    "        return nlt[:].plot(kind = \"bar\",figsize=(10,5))"
   ]
  },
  {
   "cell_type": "markdown",
   "id": "2820780f",
   "metadata": {},
   "source": [
    "###  Genre"
   ]
  },
  {
   "cell_type": "markdown",
   "id": "0fb7e909",
   "metadata": {},
   "source": [
    "#### Plotting Genre Distribution"
   ]
  },
  {
   "cell_type": "code",
   "execution_count": 14,
   "id": "c58afe52",
   "metadata": {},
   "outputs": [
    {
     "data": {
      "text/plain": [
       "<AxesSubplot:>"
      ]
     },
     "execution_count": 14,
     "metadata": {},
     "output_type": "execute_result"
    },
    {
     "data": {
      "image/png": "[encoded data removed]",
      "text/plain": [
       "<Figure size 720x360 with 1 Axes>"
      ]
     },
     "metadata": {
      "needs_background": "light"
     },
     "output_type": "display_data"
    }
   ],
   "source": [
    "plot_column('Genre')"
   ]
  },
  {
   "cell_type": "markdown",
   "id": "60ba88dc",
   "metadata": {},
   "source": [
    "#### Creating Binary Genre Columns from Multi-word Genre Data"
   ]
  },
  {
   "cell_type": "code",
   "execution_count": 15,
   "id": "844b708e",
   "metadata": {},
   "outputs": [],
   "source": [
    "genres = df['Genre'].unique()\n",
    "single_word_genres = df['Genre'].apply(lambda x: pd.Series(str(x).split(', '))).stack().value_counts()[df['Genre'].apply(lambda x: pd.Series(str(x).split(', '))).stack().value_counts() > 0].index.tolist()\n",
    "single_word_genres.sort()\n",
    "for genre in single_word_genres:\n",
    "    df[\"genre:\"+genre] = [int(genre in g.split(', ')) for g in df['Genre']]"
   ]
  },
  {
   "cell_type": "markdown",
   "id": "0f07a036",
   "metadata": {},
   "source": [
    "### director"
   ]
  },
  {
   "cell_type": "code",
   "execution_count": 16,
   "id": "e57385bf",
   "metadata": {},
   "outputs": [],
   "source": [
    "# Counting Directors:\n",
    "director_count = df['director'].value_counts()\n",
    "\n",
    "# Calculating Director Ratings\n",
    "director_ratings = df.groupby('director')['Movie Rating'].mean()\n",
    "\n",
    "#Identifying Top Directors\n",
    "top_directors = director_ratings[director_count >= 5].sort_values(ascending=False).head(20)\n",
    "Top_20_directors = top_directors.index.tolist()\n",
    "\n",
    "# Creating Binary Columns for Top 20 Directors\n",
    "for director in Top_20_directors:\n",
    "    df[\"Director:\"+director] = [int(director in d.split(', ')) for d in df.director] \n"
   ]
  },
  {
   "cell_type": "markdown",
   "id": "f50f0f70",
   "metadata": {},
   "source": [
    "###  Language"
   ]
  },
  {
   "cell_type": "code",
   "execution_count": 17,
   "id": "0218117c",
   "metadata": {},
   "outputs": [],
   "source": [
    "# Function for each row that converts the list of languages to a string\n",
    "def convert_to_str(row):\n",
    "    return ', '.join(row)\n",
    "\n",
    "# Replacing the 'language' column with a string by applying the function to each row\n",
    "df['language'] = df['language'].apply(convert_to_str)"
   ]
  },
  {
   "cell_type": "markdown",
   "id": "5c0fb6ec",
   "metadata": {},
   "source": [
    "#### Top 10 Languages Plot"
   ]
  },
  {
   "cell_type": "code",
   "execution_count": 18,
   "id": "4eda2eb5",
   "metadata": {},
   "outputs": [
    {
     "data": {
      "text/plain": [
       "<AxesSubplot:>"
      ]
     },
     "execution_count": 18,
     "metadata": {},
     "output_type": "execute_result"
    },
    {
     "data": {
      "image/png": "[encoded data removed]",
      "text/plain": [
       "<Figure size 720x720 with 1 Axes>"
      ]
     },
     "metadata": {
      "needs_background": "light"
     },
     "output_type": "display_data"
    }
   ],
   "source": [
    "plot_column('language',10)"
   ]
  },
  {
   "cell_type": "markdown",
   "id": "da8d206d",
   "metadata": {},
   "source": [
    "#### Creating Binary Language Columns for Top Languages"
   ]
  },
  {
   "cell_type": "code",
   "execution_count": 19,
   "id": "eb16e4a1",
   "metadata": {},
   "outputs": [],
   "source": [
    "languages = top('language')\n",
    "\n",
    "for language in languages[:9]:\n",
    "    df[\"language:\"+language] = [int(language in l.split(', ')) for l in df['language']]"
   ]
  },
  {
   "cell_type": "markdown",
   "id": "7062ed14",
   "metadata": {},
   "source": [
    "### Metascore , Movie Rating , VOTES , cast_size"
   ]
  },
  {
   "cell_type": "markdown",
   "id": "3f4d660b",
   "metadata": {},
   "source": [
    "#### Conversion to binary based on the average"
   ]
  },
  {
   "cell_type": "code",
   "execution_count": 20,
   "id": "d182a17d",
   "metadata": {},
   "outputs": [
    {
     "name": "stderr",
     "output_type": "stream",
     "text": [
      "C:\\Users\\tohar\\AppData\\Local\\Temp/ipykernel_33260/1694514987.py:6: SettingWithCopyWarning: \n",
      "A value is trying to be set on a copy of a slice from a DataFrame\n",
      "\n",
      "See the caveats in the documentation: https://pandas.pydata.org/pandas-docs/stable/user_guide/indexing.html#returning-a-view-versus-a-copy\n",
      "  df['Metascore'][i]=0\n",
      "C:\\Users\\tohar\\AppData\\Local\\Temp/ipykernel_33260/1694514987.py:8: SettingWithCopyWarning: \n",
      "A value is trying to be set on a copy of a slice from a DataFrame\n",
      "\n",
      "See the caveats in the documentation: https://pandas.pydata.org/pandas-docs/stable/user_guide/indexing.html#returning-a-view-versus-a-copy\n",
      "  df['Metascore'][i]=1\n",
      "C:\\Users\\tohar\\AppData\\Local\\Temp/ipykernel_33260/1694514987.py:17: SettingWithCopyWarning: \n",
      "A value is trying to be set on a copy of a slice from a DataFrame\n",
      "\n",
      "See the caveats in the documentation: https://pandas.pydata.org/pandas-docs/stable/user_guide/indexing.html#returning-a-view-versus-a-copy\n",
      "  df['Movie Rating'][i]=1\n",
      "C:\\Users\\tohar\\AppData\\Local\\Temp/ipykernel_33260/1694514987.py:15: SettingWithCopyWarning: \n",
      "A value is trying to be set on a copy of a slice from a DataFrame\n",
      "\n",
      "See the caveats in the documentation: https://pandas.pydata.org/pandas-docs/stable/user_guide/indexing.html#returning-a-view-versus-a-copy\n",
      "  df['Movie Rating'][i]=0\n",
      "C:\\Users\\tohar\\AppData\\Local\\Temp/ipykernel_33260/1694514987.py:26: SettingWithCopyWarning: \n",
      "A value is trying to be set on a copy of a slice from a DataFrame\n",
      "\n",
      "See the caveats in the documentation: https://pandas.pydata.org/pandas-docs/stable/user_guide/indexing.html#returning-a-view-versus-a-copy\n",
      "  df['Votes'][i]=1\n",
      "C:\\Users\\tohar\\AppData\\Local\\Temp/ipykernel_33260/1694514987.py:24: SettingWithCopyWarning: \n",
      "A value is trying to be set on a copy of a slice from a DataFrame\n",
      "\n",
      "See the caveats in the documentation: https://pandas.pydata.org/pandas-docs/stable/user_guide/indexing.html#returning-a-view-versus-a-copy\n",
      "  df['Votes'][i]=0\n",
      "C:\\Users\\tohar\\AppData\\Local\\Temp/ipykernel_33260/1694514987.py:35: SettingWithCopyWarning: \n",
      "A value is trying to be set on a copy of a slice from a DataFrame\n",
      "\n",
      "See the caveats in the documentation: https://pandas.pydata.org/pandas-docs/stable/user_guide/indexing.html#returning-a-view-versus-a-copy\n",
      "  df['cast_size'][i]=1\n",
      "C:\\Users\\tohar\\AppData\\Local\\Temp/ipykernel_33260/1694514987.py:33: SettingWithCopyWarning: \n",
      "A value is trying to be set on a copy of a slice from a DataFrame\n",
      "\n",
      "See the caveats in the documentation: https://pandas.pydata.org/pandas-docs/stable/user_guide/indexing.html#returning-a-view-versus-a-copy\n",
      "  df['cast_size'][i]=0\n"
     ]
    }
   ],
   "source": [
    "# METASCORE\n",
    "df['Metascore'] = pd.to_numeric(df['Metascore'])\n",
    "x = np.mean(df['Metascore'])\n",
    "for i in range(len(df)):\n",
    "    if df['Metascore'][i]<= x:\n",
    "        df['Metascore'][i]=0\n",
    "    else: \n",
    "        df['Metascore'][i]=1\n",
    "\n",
    "# Movie Rating\n",
    "df['Movie Rating'] = pd.to_numeric(df['Movie Rating'])\n",
    "x = np.mean(df['Movie Rating'])\n",
    "for i in range(len(df)):\n",
    "    if df['Movie Rating'][i]<= x:\n",
    "        df['Movie Rating'][i]=0\n",
    "    else: \n",
    "        df['Movie Rating'][i]=1\n",
    "\n",
    "# Votes\n",
    "df['Votes'] = pd.to_numeric(df['Votes'])\n",
    "x = np.mean(df['Votes'])\n",
    "for i in range(len(df)):\n",
    "    if df['Votes'][i]<= x:\n",
    "        df['Votes'][i]=0\n",
    "    else: \n",
    "        df['Votes'][i]=1\n",
    "\n",
    "# cast_size\n",
    "df['cast_size'] = pd.to_numeric(df['cast_size'])\n",
    "x = np.mean(df['cast_size'])\n",
    "for i in range(len(df)):\n",
    "    if df['cast_size'][i]<= x:\n",
    "        df['cast_size'][i]=0\n",
    "    else: \n",
    "        df['cast_size'][i]=1\n"
   ]
  },
  {
   "cell_type": "code",
   "execution_count": 21,
   "id": "ce204ce3",
   "metadata": {},
   "outputs": [
    {
     "data": {
      "text/html": [
       "<div>\n",
       "<style scoped>\n",
       "    .dataframe tbody tr th:only-of-type {\n",
       "        vertical-align: middle;\n",
       "    }\n",
       "\n",
       "    .dataframe tbody tr th {\n",
       "        vertical-align: top;\n",
       "    }\n",
       "\n",
       "    .dataframe thead th {\n",
       "        text-align: right;\n",
       "    }\n",
       "</style>\n",
       "<table border=\"1\" class=\"dataframe\">\n",
       "  <thead>\n",
       "    <tr style=\"text-align: right;\">\n",
       "      <th></th>\n",
       "      <th>Name of movie</th>\n",
       "      <th>Genre</th>\n",
       "      <th>Year of relase</th>\n",
       "      <th>Runtime (Minutes)</th>\n",
       "      <th>Movie Rating</th>\n",
       "      <th>Metascore</th>\n",
       "      <th>Votes</th>\n",
       "      <th>Description</th>\n",
       "      <th>details</th>\n",
       "      <th>series</th>\n",
       "      <th>...</th>\n",
       "      <th>Director:Jean-Pierre Melville</th>\n",
       "      <th>language:English</th>\n",
       "      <th>language:French</th>\n",
       "      <th>language:German</th>\n",
       "      <th>language:Spanish</th>\n",
       "      <th>language:Italian</th>\n",
       "      <th>language:Japanese</th>\n",
       "      <th>language:Russian</th>\n",
       "      <th>language:Latin</th>\n",
       "      <th>language:Arabic</th>\n",
       "    </tr>\n",
       "  </thead>\n",
       "  <tbody>\n",
       "    <tr>\n",
       "      <th>0</th>\n",
       "      <td>The Shawshank Redemption</td>\n",
       "      <td>Drama</td>\n",
       "      <td>0.0</td>\n",
       "      <td>1</td>\n",
       "      <td>1.0</td>\n",
       "      <td>0.0</td>\n",
       "      <td>1.0</td>\n",
       "      <td>Over the course of several years, two convicts...</td>\n",
       "      <td>[0, [English], 73, Frank Darabont, Chronicles ...</td>\n",
       "      <td>0.0</td>\n",
       "      <td>...</td>\n",
       "      <td>0</td>\n",
       "      <td>1</td>\n",
       "      <td>0</td>\n",
       "      <td>0</td>\n",
       "      <td>0</td>\n",
       "      <td>0</td>\n",
       "      <td>0</td>\n",
       "      <td>0</td>\n",
       "      <td>0</td>\n",
       "      <td>0</td>\n",
       "    </tr>\n",
       "    <tr>\n",
       "      <th>1</th>\n",
       "      <td>The Dark Knight</td>\n",
       "      <td>Action, Crime, Drama</td>\n",
       "      <td>1.0</td>\n",
       "      <td>1</td>\n",
       "      <td>1.0</td>\n",
       "      <td>0.0</td>\n",
       "      <td>1.0</td>\n",
       "      <td>When the menace known as the Joker wreaks havo...</td>\n",
       "      <td>[1, [English, Mandarin], 243, Christopher Nola...</td>\n",
       "      <td>1.0</td>\n",
       "      <td>...</td>\n",
       "      <td>0</td>\n",
       "      <td>1</td>\n",
       "      <td>0</td>\n",
       "      <td>0</td>\n",
       "      <td>0</td>\n",
       "      <td>0</td>\n",
       "      <td>0</td>\n",
       "      <td>0</td>\n",
       "      <td>0</td>\n",
       "      <td>0</td>\n",
       "    </tr>\n",
       "    <tr>\n",
       "      <th>2</th>\n",
       "      <td>Schindler's List</td>\n",
       "      <td>Biography, Drama, History</td>\n",
       "      <td>0.0</td>\n",
       "      <td>1</td>\n",
       "      <td>1.0</td>\n",
       "      <td>1.0</td>\n",
       "      <td>1.0</td>\n",
       "      <td>In German-occupied Poland during World War II,...</td>\n",
       "      <td>[0, [English, Hebrew, German, Polish, Latin], ...</td>\n",
       "      <td>0.0</td>\n",
       "      <td>...</td>\n",
       "      <td>0</td>\n",
       "      <td>1</td>\n",
       "      <td>0</td>\n",
       "      <td>1</td>\n",
       "      <td>0</td>\n",
       "      <td>0</td>\n",
       "      <td>0</td>\n",
       "      <td>0</td>\n",
       "      <td>1</td>\n",
       "      <td>0</td>\n",
       "    </tr>\n",
       "    <tr>\n",
       "      <th>3</th>\n",
       "      <td>The Lord of the Rings: The Return of the King</td>\n",
       "      <td>Action, Adventure, Drama</td>\n",
       "      <td>1.0</td>\n",
       "      <td>1</td>\n",
       "      <td>1.0</td>\n",
       "      <td>1.0</td>\n",
       "      <td>1.0</td>\n",
       "      <td>Gandalf and Aragorn lead the World of Men agai...</td>\n",
       "      <td>[1, [English, Quenya, Old English, Sindarin], ...</td>\n",
       "      <td>1.0</td>\n",
       "      <td>...</td>\n",
       "      <td>0</td>\n",
       "      <td>1</td>\n",
       "      <td>0</td>\n",
       "      <td>0</td>\n",
       "      <td>0</td>\n",
       "      <td>0</td>\n",
       "      <td>0</td>\n",
       "      <td>0</td>\n",
       "      <td>0</td>\n",
       "      <td>0</td>\n",
       "    </tr>\n",
       "    <tr>\n",
       "      <th>4</th>\n",
       "      <td>The Godfather Part II</td>\n",
       "      <td>Crime, Drama</td>\n",
       "      <td>0.0</td>\n",
       "      <td>1</td>\n",
       "      <td>1.0</td>\n",
       "      <td>1.0</td>\n",
       "      <td>1.0</td>\n",
       "      <td>The early life and career of Vito Corleone in ...</td>\n",
       "      <td>[1, [English, Italian, Spanish, Latin, Sicilia...</td>\n",
       "      <td>1.0</td>\n",
       "      <td>...</td>\n",
       "      <td>0</td>\n",
       "      <td>1</td>\n",
       "      <td>0</td>\n",
       "      <td>0</td>\n",
       "      <td>1</td>\n",
       "      <td>1</td>\n",
       "      <td>0</td>\n",
       "      <td>0</td>\n",
       "      <td>1</td>\n",
       "      <td>0</td>\n",
       "    </tr>\n",
       "  </tbody>\n",
       "</table>\n",
       "<p>5 rows × 67 columns</p>\n",
       "</div>"
      ],
      "text/plain": [
       "                                   Name of movie                      Genre  \\\n",
       "0                       The Shawshank Redemption                      Drama   \n",
       "1                                The Dark Knight       Action, Crime, Drama   \n",
       "2                               Schindler's List  Biography, Drama, History   \n",
       "3  The Lord of the Rings: The Return of the King   Action, Adventure, Drama   \n",
       "4                          The Godfather Part II               Crime, Drama   \n",
       "\n",
       "   Year of relase  Runtime (Minutes)  Movie Rating  Metascore  Votes  \\\n",
       "0             0.0                  1           1.0        0.0    1.0   \n",
       "1             1.0                  1           1.0        0.0    1.0   \n",
       "2             0.0                  1           1.0        1.0    1.0   \n",
       "3             1.0                  1           1.0        1.0    1.0   \n",
       "4             0.0                  1           1.0        1.0    1.0   \n",
       "\n",
       "                                         Description  \\\n",
       "0  Over the course of several years, two convicts...   \n",
       "1  When the menace known as the Joker wreaks havo...   \n",
       "2  In German-occupied Poland during World War II,...   \n",
       "3  Gandalf and Aragorn lead the World of Men agai...   \n",
       "4  The early life and career of Vito Corleone in ...   \n",
       "\n",
       "                                             details  series  ...  \\\n",
       "0  [0, [English], 73, Frank Darabont, Chronicles ...     0.0  ...   \n",
       "1  [1, [English, Mandarin], 243, Christopher Nola...     1.0  ...   \n",
       "2  [0, [English, Hebrew, German, Polish, Latin], ...     0.0  ...   \n",
       "3  [1, [English, Quenya, Old English, Sindarin], ...     1.0  ...   \n",
       "4  [1, [English, Italian, Spanish, Latin, Sicilia...     1.0  ...   \n",
       "\n",
       "  Director:Jean-Pierre Melville  language:English language:French  \\\n",
       "0                             0                 1               0   \n",
       "1                             0                 1               0   \n",
       "2                             0                 1               0   \n",
       "3                             0                 1               0   \n",
       "4                             0                 1               0   \n",
       "\n",
       "  language:German  language:Spanish  language:Italian  language:Japanese  \\\n",
       "0               0                 0                 0                  0   \n",
       "1               0                 0                 0                  0   \n",
       "2               1                 0                 0                  0   \n",
       "3               0                 0                 0                  0   \n",
       "4               0                 1                 1                  0   \n",
       "\n",
       "   language:Russian  language:Latin  language:Arabic  \n",
       "0                 0               0                0  \n",
       "1                 0               0                0  \n",
       "2                 0               1                0  \n",
       "3                 0               0                0  \n",
       "4                 0               1                0  \n",
       "\n",
       "[5 rows x 67 columns]"
      ]
     },
     "execution_count": 21,
     "metadata": {},
     "output_type": "execute_result"
    }
   ],
   "source": [
    "df.head()"
   ]
  },
  {
   "cell_type": "markdown",
   "id": "d1a9d3ad",
   "metadata": {},
   "source": [
    "# Clustering"
   ]
  },
  {
   "cell_type": "markdown",
   "id": "5fab93da",
   "metadata": {},
   "source": [
    "#### Since the number of features in the dataset are very high, we first have to perform PCA to reduce it to a suitable number so as to avoid the curse of dimensionality."
   ]
  },
  {
   "cell_type": "code",
   "execution_count": 22,
   "id": "7170d582",
   "metadata": {},
   "outputs": [],
   "source": [
    "df_final2 = df.drop(['Genre','Description','director','details','language','storyline',],axis = 1)"
   ]
  },
  {
   "cell_type": "markdown",
   "id": "5a6059e7",
   "metadata": {},
   "source": [
    "## PCA"
   ]
  },
  {
   "cell_type": "markdown",
   "id": "5f100881",
   "metadata": {},
   "source": [
    "#### Before applying the PCA algorithm we have to standardize our features."
   ]
  },
  {
   "cell_type": "code",
   "execution_count": 23,
   "id": "84b6e811",
   "metadata": {},
   "outputs": [],
   "source": [
    "df_matrix = df_final2.drop('Name of movie',axis=1)\n",
    "\n",
    "\n",
    "from sklearn.preprocessing import StandardScaler\n",
    "scaler = StandardScaler().fit(df_matrix)\n",
    "df_matrix =scaler.transform(df_matrix)"
   ]
  },
  {
   "cell_type": "code",
   "execution_count": 24,
   "id": "4f4a0062",
   "metadata": {},
   "outputs": [
    {
     "data": {
      "text/plain": [
       "array([[-0.64217342,  1.26096301,  1.08604198, ..., -0.27106966,\n",
       "        -0.21955928, -0.19127301],\n",
       "       [ 1.55721175,  1.26096301,  1.08604198, ..., -0.27106966,\n",
       "        -0.21955928, -0.19127301],\n",
       "       [-0.64217342,  1.26096301,  1.08604198, ..., -0.27106966,\n",
       "         4.55457858, -0.19127301],\n",
       "       ...,\n",
       "       [ 1.55721175, -0.79304468, -0.92077472, ..., -0.27106966,\n",
       "        -0.21955928, -0.19127301],\n",
       "       [ 1.55721175, -0.79304468, -0.92077472, ..., -0.27106966,\n",
       "        -0.21955928, -0.19127301],\n",
       "       [-0.64217342, -0.79304468, -0.92077472, ..., -0.27106966,\n",
       "        -0.21955928, -0.19127301]])"
      ]
     },
     "execution_count": 24,
     "metadata": {},
     "output_type": "execute_result"
    }
   ],
   "source": [
    "df_matrix"
   ]
  },
  {
   "cell_type": "code",
   "execution_count": 25,
   "id": "40381878",
   "metadata": {},
   "outputs": [
    {
     "name": "stdout",
     "output_type": "stream",
     "text": [
      "48\n",
      "['0.05', '0.04', '0.03', '0.03', '0.03', '0.03', '0.03', '0.02', '0.02', '0.02', '0.02', '0.02', '0.02', '0.02', '0.02', '0.02', '0.02', '0.02', '0.02', '0.02', '0.02', '0.02', '0.02', '0.02', '0.02', '0.02', '0.02', '0.02', '0.02', '0.02', '0.02', '0.02', '0.02', '0.01', '0.01', '0.01', '0.01', '0.01', '0.01', '0.01', '0.01', '0.01', '0.01', '0.01', '0.01', '0.01', '0.01', '0.01']\n",
      "0.9089542052418492\n"
     ]
    }
   ],
   "source": [
    "from sklearn.decomposition import PCA\n",
    "pca = PCA().fit(df_matrix)\n",
    "top_PCA=[\"%.2f\" % a for a in pca.explained_variance_ratio_ if a >=0.01]\n",
    "print(len(top_PCA))\n",
    "print(top_PCA)\n",
    "sumall=sum(pca.explained_variance_ratio_)\n",
    "\n",
    "pca48 = PCA(n_components=len(top_PCA)).fit(df_matrix)\n",
    "sum48=sum(pca48.explained_variance_ratio_)\n",
    "print (sum48/sumall)"
   ]
  },
  {
   "cell_type": "markdown",
   "id": "30dddad3",
   "metadata": {},
   "source": [
    "### First component explains the highest i.e 5% of variance in our data. We have selected those components which explain 1% or more variation in our dataset. Thus, we endup with 48, and 90.89% variation in our dataset."
   ]
  },
  {
   "cell_type": "markdown",
   "id": "a91b2abf",
   "metadata": {},
   "source": [
    "# DBSCAN"
   ]
  },
  {
   "cell_type": "code",
   "execution_count": 26,
   "id": "da9a1821",
   "metadata": {},
   "outputs": [
    {
     "name": "stdout",
     "output_type": "stream",
     "text": [
      "Best result:\n",
      "Min_samples: 1\n",
      "Epsilon: 11\n",
      "Silhouette score: 0.3936603098593405\n"
     ]
    }
   ],
   "source": [
    "from sklearn.cluster import DBSCAN\n",
    "from sklearn.metrics import silhouette_score\n",
    "\n",
    "Xpca=pca48.transform(df_matrix)\n",
    "\n",
    "results =[]\n",
    "\n",
    "for eps in [0.5,1,2,3,4,5,6,7,8,9,10,11]:\n",
    "    for min_samples in range(1,10):\n",
    "        db = DBSCAN(eps=eps, min_samples=min_samples)\n",
    "        y = db.fit_predict(Xpca)\n",
    "        if len(set(db.labels_))> 4 and len(set(db.labels_))<935:\n",
    "            silhouette_avg = silhouette_score(Xpca, db.labels_, metric='euclidean')\n",
    "            results.append((min_samples, eps, silhouette_avg))\n",
    "#             print (str(eps) + \" \" + str(min_samples) + \": \"+ str(silhouette_score(Xpca, db.labels_, metric='euclidean')))\n",
    "\n",
    "best_result = max(results, key=lambda x: x[2])\n",
    "print(\"Best result:\")\n",
    "print(\"Min_samples:\", best_result[0])\n",
    "print(\"Epsilon:\", best_result[1])\n",
    "print(\"Silhouette score:\", best_result[2])"
   ]
  },
  {
   "cell_type": "code",
   "execution_count": 27,
   "id": "5cca91b6",
   "metadata": {},
   "outputs": [
    {
     "name": "stdout",
     "output_type": "stream",
     "text": [
      "Estimated number of clusters: 14\n",
      "Silhouette Coefficient: 0.394\n"
     ]
    }
   ],
   "source": [
    "from sklearn import metrics\n",
    "db = DBSCAN(eps=11, min_samples=1).fit(Xpca)\n",
    "\n",
    "\n",
    "core_samples_mask = np.zeros_like(db.labels_, dtype=bool)\n",
    "core_samples_mask[db.core_sample_indices_] = True\n",
    "dbscanlabels = db.labels_\n",
    "\n",
    "# Number of clusters in labels, ignoring noise if present.\n",
    "n_clusters_ = len(set(dbscanlabels)) - (1 if -1 in dbscanlabels else 0)\n",
    "\n",
    "print('Estimated number of clusters: %d' % n_clusters_)\n",
    "print(\"Silhouette Coefficient: %0.3f\"\n",
    "      % metrics.silhouette_score(Xpca, dbscanlabels))"
   ]
  },
  {
   "cell_type": "markdown",
   "id": "13accb6f",
   "metadata": {},
   "source": [
    "# Clustering Analysis with Gaussian Mixture Models and BIC Evaluation"
   ]
  },
  {
   "cell_type": "code",
   "execution_count": 28,
   "id": "5f46780e-1d3c-4ece-bcaf-880505f313ac",
   "metadata": {},
   "outputs": [
    {
     "name": "stdout",
     "output_type": "stream",
     "text": [
      "Best number of clusters according to BIC: 8\n"
     ]
    },
    {
     "data": {
      "image/png": "[encoded data removed]",
      "text/plain": [
       "<Figure size 720x360 with 1 Axes>"
      ]
     },
     "metadata": {
      "needs_background": "light"
     },
     "output_type": "display_data"
    }
   ],
   "source": [
    "Xpca=pca48.transform(df_matrix)\n",
    "bic_scores = []\n",
    "silhouette_scores = []\n",
    "\n",
    "for n_clusters in range(1,10):\n",
    "    em = GaussianMixture(n_components=n_clusters)\n",
    "    em.fit(Xpca)\n",
    "    bic = em.bic(Xpca)\n",
    "    \n",
    "    bic_scores.append(bic)\n",
    "    labels = em.predict(Xpca)\n",
    "     \n",
    "best_bic_scores = bic_scores.index(min(bic_scores)) + 1\n",
    "print(\"Best number of clusters according to BIC:\",best_bic_scores)\n",
    "   \n",
    "plt.figure(figsize=(10, 5))\n",
    "plt.subplot(1, 2, 2) \n",
    "plt.plot(range(1,10),  bic_scores, marker='o')\n",
    "plt.title(\"BIC\")\n",
    "\n",
    "plt.tight_layout()  \n",
    "plt.show()"
   ]
  },
  {
   "cell_type": "markdown",
   "id": "5c57e769",
   "metadata": {},
   "source": [
    "### Movie Clustering and Recommendation with Gaussian Mixture Models"
   ]
  },
  {
   "cell_type": "code",
   "execution_count": 46,
   "id": "d2c0852b-5529-4094-a8ed-ead2c016824d",
   "metadata": {
    "scrolled": true
   },
   "outputs": [],
   "source": [
    "\n",
    "X=pca48.transform(df_matrix)\n",
    "\n",
    "\n",
    "n_clusters = 8  \n",
    "gmm = GaussianMixture(n_components=8, random_state=42)\n",
    "\n",
    "gmm.fit(X)\n",
    "\n",
    "clusters = gmm.predict(X)\n",
    "\n",
    "def closest_movies(movie_name, cluster_label, k=3):\n",
    "    movie_index = df_final2.index[df_final2['Name of movie'] == movie_name][0]\n",
    "    cluster_indices = np.where(clusters == cluster_label)[0]\n",
    "    cluster_data = X[cluster_indices]\n",
    "    distances = cdist([X[movie_index]], cluster_data, 'euclidean')[0]\n",
    "    closest_indices = distances.argsort()[1:k+1]\n",
    "    closest_movies = df_final2.iloc[cluster_indices[closest_indices]]['Name of movie'].tolist()\n",
    "    return closest_movies\n",
    "\n",
    "\n",
    "movie_name = \"The Lord of the Rings: The Return of the King\"\n",
    "cluster_label = clusters[df_final2.index[df_final2['Name of movie'] == movie_name][0]]\n",
    "closest = closest_movies(movie_name, cluster_label)"
   ]
  },
  {
   "cell_type": "markdown",
   "id": "4ae4324e",
   "metadata": {},
   "source": [
    "#### Calculating Similarity Scores Between Movies"
   ]
  },
  {
   "cell_type": "code",
   "execution_count": 48,
   "id": "077144c2",
   "metadata": {},
   "outputs": [
    {
     "name": "stdout",
     "output_type": "stream",
     "text": [
      "Similarity between The Lord of the Rings: The Fellowship of the Ring and The Lord of the Rings: The Return of the King: 0.69\n",
      "Similarity between The Lord of the Rings: The Two Towers and The Lord of the Rings: The Return of the King: 0.61\n",
      "Similarity between King Kong and The Lord of the Rings: The Return of the King: 1.00\n"
     ]
    }
   ],
   "source": [
    "movies =closest \n",
    "movies.append(movie_name)\n",
    "vectors = []\n",
    "for movie_name in movies[:3]:\n",
    "    vector = df[df['Name of movie'] == movie_name].select_dtypes(include=np.number).values.flatten()\n",
    "    vectors.append(vector)\n",
    "\n",
    "last_movie_vector = df[df['Name of movie'] == movie_name].select_dtypes(include=np.number).values.flatten()\n",
    "\n",
    "similarity_scores = cosine_similarity(vectors, [last_movie_vector])\n",
    "\n",
    "for i, movie_name in enumerate(movies[:3]):\n",
    "    similarity = similarity_scores[i][0]\n",
    "    print(\"Similarity between {} and {}: {:.2f}\".format(movie_name, movies[-1], similarity))"
   ]
  }
 ],
 "metadata": {
  "kernelspec": {
   "display_name": "Python 3 (ipykernel)",
   "language": "python",
   "name": "python3"
  },
  "language_info": {
   "codemirror_mode": {
    "name": "ipython",
    "version": 3
   },
   "file_extension": ".py",
   "mimetype": "text/x-python",
   "name": "python",
   "nbconvert_exporter": "python",
   "pygments_lexer": "ipython3",
   "version": "3.9.6"
  }
 },
 "nbformat": 4,
 "nbformat_minor": 5
}
